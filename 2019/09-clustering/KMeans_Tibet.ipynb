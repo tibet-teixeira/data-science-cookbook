{
 "cells": [
  {
   "cell_type": "code",
   "execution_count": 2,
   "metadata": {},
   "outputs": [],
   "source": [
    "# import libraries\n",
    "\n",
    "# linear algebra\n",
    "import numpy as np \n",
    "# data processing\n",
    "import pandas as pd \n",
    "# data visualization\n",
    "from matplotlib import pyplot as plt"
   ]
  },
  {
   "cell_type": "code",
   "execution_count": 3,
   "metadata": {},
   "outputs": [
    {
     "data": {
      "image/png": "[encoded data removed]",
      "text/plain": [
       "<Figure size 432x288 with 1 Axes>"
      ]
     },
     "metadata": {
      "needs_background": "light"
     },
     "output_type": "display_data"
    }
   ],
   "source": [
    "dataset = pd.read_csv('https://raw.githubusercontent.com/InsightLab/data-science-cookbook/master/2019/09-clustering/dataset.csv', header=None)\n",
    "dataset = np.array(dataset)\n",
    "\n",
    "plt.scatter(dataset[:,0], dataset[:,1], s=10)\n",
    "plt.show()"
   ]
  },
  {
   "cell_type": "code",
   "execution_count": 4,
   "metadata": {},
   "outputs": [],
   "source": [
    "def calculate_initial_centers(dataset, k):\n",
    "    \"\"\"\n",
    "    Inicializa os centróides iniciais de maneira arbitrária \n",
    "    \n",
    "    Argumentos:\n",
    "    dataset -- Conjunto de dados - [m,n]\n",
    "    k -- Número de centróides desejados\n",
    "    \n",
    "    Retornos:\n",
    "    centroids -- Lista com os centróides calculados - [k,n]\n",
    "    \"\"\"\n",
    "    \n",
    "    #### CODE HERE ####\n",
    "    \n",
    "    dims = len(dataset[0])\n",
    "    \n",
    "    zipps = list(zip(*dataset))\n",
    "    \n",
    "    mins = []\n",
    "    maxs = []\n",
    "    \n",
    "    for dim in range(dims):\n",
    "        mins.append(min(zipps[dim]))\n",
    "        maxs.append(max(zipps[dim]))\n",
    "    \n",
    "    centroids = []\n",
    "    \n",
    "    for dim in range(dims):\n",
    "        centroids.append(np.random.uniform(mins[dim], maxs[dim], k))\n",
    "\n",
    "    ### END OF CODE ###\n",
    "  \n",
    "    return np.array(list(zip(*centroids)))"
   ]
  },
  {
   "cell_type": "code",
   "execution_count": 5,
   "metadata": {},
   "outputs": [],
   "source": [
    "def euclidean_distance(a, b):\n",
    "    \"\"\"\n",
    "    Calcula a distância euclidiana entre os pontos a e b\n",
    "    \n",
    "    Argumentos:\n",
    "    a -- Um ponto no espaço - [1,n]\n",
    "    b -- Um ponto no espaço - [1,n]\n",
    "    \n",
    "    Retornos:\n",
    "    distance -- Distância euclidiana entre os pontos\n",
    "    \"\"\"\n",
    "    \n",
    "    #### CODE HERE ####\n",
    "    sums = 0\n",
    "    \n",
    "    for i in range(len(a)):\n",
    "        sums += np.power((a[i] - b[i]), 2)\n",
    "    \n",
    "    distance = np.sqrt(sums)\n",
    "    \n",
    "    ### END OF CODE ###\n",
    "    \n",
    "    return distance"
   ]
  },
  {
   "cell_type": "code",
   "execution_count": 6,
   "metadata": {},
   "outputs": [],
   "source": [
    "def nearest_centroid(a, centroids):\n",
    "    \"\"\"\n",
    "    Calcula o índice do centroid mais próximo ao ponto a\n",
    "    \n",
    "    Argumentos:\n",
    "    a -- Um ponto no espaço - [1,n]\n",
    "    centroids -- Lista com os centróides - [k,n]\n",
    "    \n",
    "    Retornos:\n",
    "    nearest_index -- Índice do centróide mais próximo\n",
    "    \"\"\"\n",
    "    \n",
    "    #### CODE HERE ####\n",
    "    nearest_index = 0\n",
    "    min_distance = np.inf\n",
    "    i = 0\n",
    "    \n",
    "    \n",
    "    \n",
    "    for centro in centroids:\n",
    "        if euclidean_distance(a, centro) < min_distance:\n",
    "            min_distance = euclidean_distance(a, centro)\n",
    "            nearest_index = i\n",
    "        i += 1\n",
    "      \n",
    "    ### END OF CODE ###\n",
    "    \n",
    "    return nearest_index\n"
   ]
  },
  {
   "cell_type": "code",
   "execution_count": 7,
   "metadata": {},
   "outputs": [],
   "source": [
    "def all_nearest_centroids(dataset, centroids):\n",
    "    \"\"\"\n",
    "    Calcula o índice do centroid mais próximo para cada \n",
    "    ponto do dataset\n",
    "    \n",
    "    Argumentos:\n",
    "    dataset -- Conjunto de dados - [m,n]\n",
    "    centroids -- Lista com os centróides - [k,n]\n",
    "    \n",
    "    Retornos:\n",
    "    nearest_indexes -- Índices do centróides mais próximos - [m,1]\n",
    "    \"\"\"\n",
    "    \n",
    "    #### CODE HERE ####\n",
    "    \n",
    "    dims = len(dataset[0])\n",
    "    nearest_indexes = []\n",
    "    for data in range(len(dataset)):\n",
    "        nearest_indexes.append(nearest_centroid(dataset[data], centroids))\n",
    "      \n",
    "    ### END OF CODE ###\n",
    "    \n",
    "    return np.array(nearest_indexes)\n"
   ]
  },
  {
   "cell_type": "code",
   "execution_count": 8,
   "metadata": {},
   "outputs": [],
   "source": [
    "def inertia(dataset, centroids, nearest_indexes):\n",
    "    \"\"\"\n",
    "    Soma das distâncias quadradas das amostras para o \n",
    "    centro do cluster mais próximo.\n",
    "    \n",
    "    Argumentos:\n",
    "    dataset -- Conjunto de dados - [m,n]\n",
    "    centroids -- Lista com os centróides - [k,n]\n",
    "    nearest_indexes -- Índices do centróides mais próximos - [m,1]\n",
    "    \n",
    "    Retornos:\n",
    "    inertia -- Soma total do quadrado da distância entre \n",
    "    os dados de um cluster e seu centróide\n",
    "    \"\"\"\n",
    "    \n",
    "    #### CODE HERE ####\n",
    "    inertia = 0\n",
    "\n",
    "    for data in range(len(dataset)):\n",
    "        distance_data_centroid = euclidean_distance(dataset[data], centroids[nearest_indexes[data]])\n",
    "        inertia += np.power(distance_data_centroid, 2)\n",
    "    \n",
    "    #inertia = np.power(sum_distance, 2)\n",
    "      \n",
    "    ### END OF CODE ###\n",
    "    \n",
    "    return inertia"
   ]
  },
  {
   "cell_type": "code",
   "execution_count": 9,
   "metadata": {},
   "outputs": [],
   "source": [
    "def update_centroids(dataset, centroids, nearest_indexes):\n",
    "    \"\"\"\n",
    "    Atualiza os centroids\n",
    "    \n",
    "    Argumentos:\n",
    "    dataset -- Conjunto de dados - [m,n]\n",
    "    centroids -- Lista com os centróides - [k,n]\n",
    "    nearest_indexes -- Índices do centróides mais próximos - [m,1]\n",
    "    \n",
    "    Retornos:\n",
    "    centroids -- Lista com centróides atualizados - [k,n]\n",
    "    \"\"\"\n",
    "   \n",
    "    #### CODE HERE ####\n",
    "    centroid_data_group = [[] for i in range(len(centroids))] \n",
    "    \n",
    "    for data in range(len(dataset)):\n",
    "        centroid_data_group[nearest_indexes[data]].append(list(dataset[data]))\n",
    "        \n",
    "    new_centroids = [[] for i in range(len(centroids))]\n",
    "    \n",
    "    i = 0\n",
    "    \n",
    "    for centroid in centroid_data_group:\n",
    "\n",
    "        new_centroid_data_group = list(zip(*centroid))\n",
    "        \n",
    "        for column in range(len(dataset[0])):\n",
    "            new_centroids[i].append(np.mean(new_centroid_data_group[column]))\n",
    "        \n",
    "        i += 1\n",
    "            \n",
    "    ### END OF CODE ###\n",
    "    \n",
    "    return np.array(new_centroids)"
   ]
  },
  {
   "cell_type": "code",
   "execution_count": 10,
   "metadata": {},
   "outputs": [],
   "source": [
    "class MyKMeans():\n",
    "    \n",
    "    def __init__(self, n_clusters=8, max_iter=300):\n",
    "        self.n_clusters = n_clusters\n",
    "        self.max_iter = max_iter\n",
    "    \n",
    "    def fit(self,X):\n",
    "        \n",
    "        # Inicializa os centróides\n",
    "        self.cluster_centers_ = calculate_initial_centers(X, self.n_clusters)\n",
    "        \n",
    "        # Computa o cluster de cada amostra\n",
    "        self.labels_ = all_nearest_centroids(X, self.cluster_centers_)\n",
    "        \n",
    "        # Calcula a inércia inicial\n",
    "        self.inertia_ = inertia(X, self.cluster_centers_, self.labels_)\n",
    "        \n",
    "        for index in range(self.max_iter):\n",
    "            \n",
    "            #### CODE HERE ####\n",
    "            self.cluster_centers_ = update_centroids(X, self.cluster_centers_, self.labels_)\n",
    "            self.labels_ = all_nearest_centroids(X, self.cluster_centers_)\n",
    "            self.inertia_ = inertia(X, self.cluster_centers_, self.labels_)\n",
    "      \n",
    "            ### END OF CODE ###\n",
    "                    \n",
    "        return self\n",
    "    \n",
    "    def predict(self, X):\n",
    "        \n",
    "        return [None] # não sei como faz o predict"
   ]
  },
  {
   "cell_type": "code",
   "execution_count": 11,
   "metadata": {},
   "outputs": [
    {
     "data": {
      "image/png": "[encoded data removed]",
      "text/plain": [
       "<Figure size 432x288 with 1 Axes>"
      ]
     },
     "metadata": {
      "needs_background": "light"
     },
     "output_type": "display_data"
    }
   ],
   "source": [
    "kmeans = MyKMeans(n_clusters=3)\n",
    "kmeans.fit(dataset)\n",
    "\n",
    "plt.scatter(dataset[:,0], dataset[:,1], c=kmeans.labels_)\n",
    "plt.scatter(kmeans.cluster_centers_[:,0], \n",
    "            kmeans.cluster_centers_[:,1], marker='^', c='red', s=100)\n",
    "plt.show()"
   ]
  },
  {
   "cell_type": "code",
   "execution_count": null,
   "metadata": {},
   "outputs": [],
   "source": []
  }
 ],
 "metadata": {
  "kernelspec": {
   "display_name": "Python 3",
   "language": "python",
   "name": "python3"
  },
  "language_info": {
   "codemirror_mode": {
    "name": "ipython",
    "version": 3
   },
   "file_extension": ".py",
   "mimetype": "text/x-python",
   "name": "python",
   "nbconvert_exporter": "python",
   "pygments_lexer": "ipython3",
   "version": "3.7.3"
  }
 },
 "nbformat": 4,
 "nbformat_minor": 2
}
